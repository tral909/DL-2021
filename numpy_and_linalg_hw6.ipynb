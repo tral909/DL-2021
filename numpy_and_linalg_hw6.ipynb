{
  "nbformat": 4,
  "nbformat_minor": 0,
  "metadata": {
    "colab": {
      "name": "numpy_and_linalg_hw6.ipynb",
      "provenance": [],
      "collapsed_sections": [],
      "toc_visible": true,
      "authorship_tag": "ABX9TyOQs690D65RB2o3RaHaAR+1",
      "include_colab_link": true
    },
    "kernelspec": {
      "name": "python3",
      "display_name": "Python 3"
    },
    "language_info": {
      "name": "python"
    }
  },
  "cells": [
    {
      "cell_type": "markdown",
      "metadata": {
        "id": "view-in-github",
        "colab_type": "text"
      },
      "source": [
        "<a href=\"https://colab.research.google.com/github/tral909/DL-2021/blob/main/numpy_and_linalg_hw6.ipynb\" target=\"_parent\"><img src=\"https://colab.research.google.com/assets/colab-badge.svg\" alt=\"Open In Colab\"/></a>"
      ]
    },
    {
      "cell_type": "markdown",
      "metadata": {
        "id": "znqueOpE0Vnj"
      },
      "source": [
        "## 6. Домашнее задание. Numpy и линейная алгебра"
      ]
    },
    {
      "cell_type": "markdown",
      "metadata": {
        "id": "5-GHO5uW5Wys"
      },
      "source": [
        "### 6.1 Перемножение матриц\n",
        "Напишите две функции, каждая из которых перемножает две квадратные матрицы: одна без использования встроенных функций `numpy`, а другая --- с помощью `numpy`. На вход первой задаче подаются списки размера size по size элементов в каждом. На вход второй задаче подаются объекты типа `np.ndarray` --- квадратные матрицы одинакового размера. \n",
        "\n",
        "Первая функция должна возвращать список списков, а вторая -- `np.array`."
      ]
    },
    {
      "cell_type": "code",
      "metadata": {
        "id": "SlthNO_ZDeHx",
        "colab": {
          "base_uri": "https://localhost:8080/"
        },
        "outputId": "da2894e4-bb23-41d8-d2a2-4b24942982dd"
      },
      "source": [
        "import numpy as np\n",
        "\n",
        "def no_numpy_mult(first, second):\n",
        "    size = len(first)\n",
        "    result = [[0 for k in range(size)] for m in range(size)]\n",
        "    for i in range(size):\n",
        "      for j in range(size):\n",
        "        sum = 0\n",
        "        for d in range(size):\n",
        "          sum += first[j][d] * second[d][i]\n",
        "        result[j][i] = sum\n",
        "    return result\n",
        "\n",
        "def numpy_mult(first, second):\n",
        "    return first.dot(second)\n",
        "\n",
        "a = [[1, 2, 3],\n",
        "     [2, 3, 4],\n",
        "     [3, 4, 5]]\n",
        "b = [[3, 4, 5],\n",
        "     [4, 5, 6],\n",
        "     [5, 6, 7]]\n",
        "print(no_numpy_mult(a, b))\n",
        "print(numpy_mult(np.array(a), np.array(b)))"
      ],
      "execution_count": 1,
      "outputs": [
        {
          "output_type": "stream",
          "text": [
            "[[26, 32, 38], [38, 47, 56], [50, 62, 74]]\n",
            "[[26 32 38]\n",
            " [38 47 56]\n",
            " [50 62 74]]\n"
          ],
          "name": "stdout"
        }
      ]
    },
    {
      "cell_type": "markdown",
      "metadata": {
        "id": "JAN-gHYU_GfU"
      },
      "source": [
        "### 6.2 Скалярное произведение векторов\n",
        "Вам подаются на вход два вектора `a` и `b` в трехмерном пространстве. Реализуйте их скалярное произведение с помощью `numpy` и без. "
      ]
    },
    {
      "cell_type": "code",
      "metadata": {
        "id": "z3zu30rt_PSh",
        "colab": {
          "base_uri": "https://localhost:8080/"
        },
        "outputId": "06dc0ac5-4894-4e1e-da7b-eb3dfb42f754"
      },
      "source": [
        "import numpy as np\n",
        "from functools import reduce\n",
        "from operator import add\n",
        "\n",
        "def no_numpy_scalar(v1, v2):\n",
        "    return reduce(add, map(lambda v: v[0] * v[1], zip(v1, v2)))\n",
        "\n",
        "def numpy_scalar(v1, v2):\n",
        "    return v1.dot(v2)\n",
        "\n",
        "v1 = [1, 2, 3]\n",
        "v2 = [2, 3, 4]\n",
        "print(no_numpy_scalar(v1, v2))\n",
        "print(numpy_scalar(np.array(v1), np.array(v2)))"
      ],
      "execution_count": 3,
      "outputs": [
        {
          "output_type": "stream",
          "text": [
            "20\n",
            "20\n"
          ],
          "name": "stdout"
        }
      ]
    },
    {
      "cell_type": "markdown",
      "metadata": {
        "id": "1EzCBaF_kM8f"
      },
      "source": [
        ""
      ]
    }
  ]
}