{
  "nbformat": 4,
  "nbformat_minor": 0,
  "metadata": {
    "colab": {
      "name": "hw1.ipynb",
      "provenance": [],
      "collapsed_sections": [],
      "authorship_tag": "ABX9TyMJlJtdXY2J+bLrD2Ny1jal",
      "include_colab_link": true
    },
    "kernelspec": {
      "name": "python3",
      "display_name": "Python 3"
    },
    "language_info": {
      "name": "python"
    }
  },
  "cells": [
    {
      "cell_type": "markdown",
      "metadata": {
        "id": "view-in-github",
        "colab_type": "text"
      },
      "source": [
        "<a href=\"https://colab.research.google.com/github/tral909/DL-2021/blob/main/numpy_and_linalg_hw6.ipynb\" target=\"_parent\"><img src=\"https://colab.research.google.com/assets/colab-badge.svg\" alt=\"Open In Colab\"/></a>"
      ]
    },
    {
      "cell_type": "markdown",
      "metadata": {
        "id": "5-GHO5uW5Wys"
      },
      "source": [
        "### 6. Домашнее задание. Numpy и линейная алгебра\n",
        "## 6.1 Перемножение матриц\n",
        "Напишите две функции, каждая из которых перемножает две квадратные матрицы: одна без использования встроенных функций `numpy`, а другая --- с помощью `numpy`. На вход первой задаче подаются списки размера size по size элементов в каждом. На вход второй задаче подаются объекты типа `np.ndarray` --- квадратные матрицы одинакового размера. \n",
        "\n",
        "Первая функция должна возвращать список списков, а вторая -- `np.array`."
      ]
    },
    {
      "cell_type": "code",
      "metadata": {
        "id": "SlthNO_ZDeHx",
        "colab": {
          "base_uri": "https://localhost:8080/"
        },
        "outputId": "3a1445ac-52ff-453a-d953-2b9a31b6c09c"
      },
      "source": [
        "import numpy as np\n",
        "\n",
        "def no_numpy_mult(first, second):\n",
        "    size = len(first)\n",
        "    result = [[0 for k in range(size)] for m in range(size)]\n",
        "    for i in range(size):\n",
        "      for j in range(size):\n",
        "        sum = 0\n",
        "        for d in range(size):\n",
        "          sum += first[j][d] * second[d][i]\n",
        "        result[j][i] = sum\n",
        "    return result\n",
        "\n",
        "def numpy_mult(first, second):\n",
        "    return first.dot(second)\n",
        "\n",
        "a = [[1, 2, 3],\n",
        "     [2, 3, 4],\n",
        "     [3, 4, 5]]\n",
        "b = [[3, 4, 5],\n",
        "     [4, 5, 6],\n",
        "     [5, 6, 7]]\n",
        "print(no_numpy_mult(a, b))\n",
        "print(numpy_mult(np.array(a), np.array(b)))"
      ],
      "execution_count": 6,
      "outputs": [
        {
          "output_type": "stream",
          "text": [
            "[[26, 32, 38], [38, 47, 56], [50, 62, 74]]\n",
            "[[26 32 38]\n",
            " [38 47 56]\n",
            " [50 62 74]]\n"
          ],
          "name": "stdout"
        }
      ]
    },
    {
      "cell_type": "markdown",
      "metadata": {
        "id": "1EzCBaF_kM8f"
      },
      "source": [
        ""
      ]
    }
  ]
}