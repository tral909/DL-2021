{
  "nbformat": 4,
  "nbformat_minor": 0,
  "metadata": {
    "colab": {
      "name": "numpy_and_linalg_hw6.ipynb",
      "provenance": [],
      "collapsed_sections": [],
      "toc_visible": true,
      "authorship_tag": "ABX9TyM0fGcaeGhdMdZIW6It569c",
      "include_colab_link": true
    },
    "kernelspec": {
      "name": "python3",
      "display_name": "Python 3"
    },
    "language_info": {
      "name": "python"
    }
  },
  "cells": [
    {
      "cell_type": "markdown",
      "metadata": {
        "id": "view-in-github",
        "colab_type": "text"
      },
      "source": [
        "<a href=\"https://colab.research.google.com/github/tral909/DL-2021/blob/main/numpy_and_linalg_hw6.ipynb\" target=\"_parent\"><img src=\"https://colab.research.google.com/assets/colab-badge.svg\" alt=\"Open In Colab\"/></a>"
      ]
    },
    {
      "cell_type": "markdown",
      "metadata": {
        "id": "znqueOpE0Vnj"
      },
      "source": [
        "## 6. Домашнее задание. Numpy и линейная алгебра"
      ]
    },
    {
      "cell_type": "markdown",
      "metadata": {
        "id": "5-GHO5uW5Wys"
      },
      "source": [
        "### 6.1 Перемножение матриц\n",
        "Напишите две функции, каждая из которых перемножает две квадратные матрицы: одна без использования встроенных функций `numpy`, а другая --- с помощью `numpy`. На вход первой задаче подаются списки размера size по size элементов в каждом. На вход второй задаче подаются объекты типа `np.ndarray` --- квадратные матрицы одинакового размера. \n",
        "\n",
        "Первая функция должна возвращать список списков, а вторая -- `np.array`."
      ]
    },
    {
      "cell_type": "code",
      "metadata": {
        "id": "SlthNO_ZDeHx",
        "colab": {
          "base_uri": "https://localhost:8080/"
        },
        "outputId": "da2894e4-bb23-41d8-d2a2-4b24942982dd"
      },
      "source": [
        "import numpy as np\n",
        "\n",
        "def no_numpy_mult(first, second):\n",
        "    size = len(first)\n",
        "    result = [[0 for k in range(size)] for m in range(size)]\n",
        "    for i in range(size):\n",
        "      for j in range(size):\n",
        "        sum = 0\n",
        "        for d in range(size):\n",
        "          sum += first[j][d] * second[d][i]\n",
        "        result[j][i] = sum\n",
        "    return result\n",
        "\n",
        "def numpy_mult(first, second):\n",
        "    return first.dot(second)\n",
        "\n",
        "a = [[1, 2, 3],\n",
        "     [2, 3, 4],\n",
        "     [3, 4, 5]]\n",
        "b = [[3, 4, 5],\n",
        "     [4, 5, 6],\n",
        "     [5, 6, 7]]\n",
        "print(no_numpy_mult(a, b))\n",
        "print(numpy_mult(np.array(a), np.array(b)))"
      ],
      "execution_count": null,
      "outputs": [
        {
          "output_type": "stream",
          "text": [
            "[[26, 32, 38], [38, 47, 56], [50, 62, 74]]\n",
            "[[26 32 38]\n",
            " [38 47 56]\n",
            " [50 62 74]]\n"
          ],
          "name": "stdout"
        }
      ]
    },
    {
      "cell_type": "markdown",
      "metadata": {
        "id": "JAN-gHYU_GfU"
      },
      "source": [
        "### 6.2 Скалярное произведение векторов\n",
        "Вам подаются на вход два вектора `a` и `b` в трехмерном пространстве. Реализуйте их скалярное произведение с помощью `numpy` и без. "
      ]
    },
    {
      "cell_type": "code",
      "metadata": {
        "id": "z3zu30rt_PSh",
        "colab": {
          "base_uri": "https://localhost:8080/"
        },
        "outputId": "06dc0ac5-4894-4e1e-da7b-eb3dfb42f754"
      },
      "source": [
        "import numpy as np\n",
        "from functools import reduce\n",
        "from operator import add\n",
        "\n",
        "def no_numpy_scalar(v1, v2):\n",
        "    return reduce(add, map(lambda v: v[0] * v[1], zip(v1, v2)))\n",
        "\n",
        "def numpy_scalar(v1, v2):\n",
        "    return v1.dot(v2)\n",
        "\n",
        "v1 = [1, 2, 3]\n",
        "v2 = [2, 3, 4]\n",
        "print(no_numpy_scalar(v1, v2))\n",
        "print(numpy_scalar(np.array(v1), np.array(v2)))"
      ],
      "execution_count": null,
      "outputs": [
        {
          "output_type": "stream",
          "text": [
            "20\n",
            "20\n"
          ],
          "name": "stdout"
        }
      ]
    },
    {
      "cell_type": "markdown",
      "metadata": {
        "id": "MNxXCjJ8md_l"
      },
      "source": [
        "### 6.3 Задача про произведение элементов главной диагонали с четными значениями\n",
        "Напишите функцию, которая находит сумму четных элементов на главной диагонали квадратной матрицы (именно чётных элементов, а не элементов на чётных позициях!). Если чётных элементов нет, то вывести `0`. Используйте библиотеку `numpy`"
      ]
    },
    {
      "cell_type": "code",
      "metadata": {
        "colab": {
          "base_uri": "https://localhost:8080/"
        },
        "id": "LRg7efDJmfIC",
        "outputId": "5064be46-8b06-42cd-d415-7a3878c817a3"
      },
      "source": [
        "import numpy as np #не стирать!        \n",
        "#from functools import reduce\n",
        "\n",
        "def diag_2k(a):\n",
        "    # только через numpy\n",
        "    diag = a.diagonal()\n",
        "    # применяется маска\n",
        "    return np.sum(diag[diag % 2 == 0])\n",
        "    # reduce - не numpy функция, на больших массивах возможно проигрывает по скорости\n",
        "    #return reduce(lambda x, y: x + y, filter(lambda x: x % 2 == 0, np.diag(a)))\n",
        "\n",
        "m = [[2, 4, 5],\n",
        "     [4, 5, 6],\n",
        "     [5, 6, 8]]\n",
        "print(diag_2k(m))"
      ],
      "execution_count": null,
      "outputs": [
        {
          "output_type": "stream",
          "text": [
            "10\n"
          ],
          "name": "stdout"
        }
      ]
    },
    {
      "cell_type": "markdown",
      "metadata": {
        "id": "8a743jDFMLrl"
      },
      "source": [
        "### 6.4 Кумулятивная сумма в матрице"
      ]
    },
    {
      "cell_type": "code",
      "metadata": {
        "colab": {
          "base_uri": "https://localhost:8080/"
        },
        "id": "KgvzhQW9MT2k",
        "outputId": "6b3e61c6-2a35-4999-d477-a4f337b036a1"
      },
      "source": [
        "import numpy as np\n",
        "\n",
        "def cumsum(A):\n",
        "    # суммирование вдоль строк, axis = 0 - вдоль столбцов\n",
        "    return np.cumsum(A, axis = 1)\n",
        "\n",
        "m = [[0, 1, 2],\n",
        "     [1, 2, 3],\n",
        "     [2, 3, 4]]\n",
        "print(cumsum(np.array(m)))"
      ],
      "execution_count": null,
      "outputs": [
        {
          "output_type": "stream",
          "text": [
            "[[0 1 3]\n",
            " [1 3 6]\n",
            " [2 5 9]]\n"
          ],
          "name": "stdout"
        }
      ]
    },
    {
      "cell_type": "markdown",
      "metadata": {
        "id": "1EzCBaF_kM8f"
      },
      "source": [
        ""
      ]
    }
  ]
}